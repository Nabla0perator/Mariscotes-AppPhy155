{
 "cells": [
  {
   "cell_type": "code",
   "execution_count": 2,
   "id": "fa782749-93d4-4a5d-bc4f-5a8588b4ca54",
   "metadata": {},
   "outputs": [
    {
     "data": {
      "text/plain": [
       "1.492154126362245"
      ]
     },
     "execution_count": 2,
     "metadata": {},
     "output_type": "execute_result"
    }
   ],
   "source": [
    "import numpy as np\n",
    "\n",
    "a = -1\n",
    "b = 1\n",
    "N = 1000\n",
    "\n",
    "delta = (b-a)/N\n",
    "\n",
    "def f(x):\n",
    "    #return np.cos(x)\n",
    "    #return x\n",
    "    return np.exp(-x*x)\n",
    "\n",
    "x = np.linspace(a, b, N)\n",
    "#x. shape\n",
    "integral = delta * (np.sum(f(x)) - 0.5*(f(a) + f(b)))\n",
    "integral"
   ]
  },
  {
   "cell_type": "code",
   "execution_count": null,
   "id": "5e891871-8fcb-4f62-9cca-3f4e01158b04",
   "metadata": {},
   "outputs": [],
   "source": [
    "#"
   ]
  }
 ],
 "metadata": {
  "kernelspec": {
   "display_name": "Python 3 (ipykernel)",
   "language": "python",
   "name": "python3"
  },
  "language_info": {
   "codemirror_mode": {
    "name": "ipython",
    "version": 3
   },
   "file_extension": ".py",
   "mimetype": "text/x-python",
   "name": "python",
   "nbconvert_exporter": "python",
   "pygments_lexer": "ipython3",
   "version": "3.9.12"
  }
 },
 "nbformat": 4,
 "nbformat_minor": 5
}
