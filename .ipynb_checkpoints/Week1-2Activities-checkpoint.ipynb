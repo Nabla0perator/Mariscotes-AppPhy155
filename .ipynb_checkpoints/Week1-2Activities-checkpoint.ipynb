{
 "cells": [
  {
   "cell_type": "code",
   "execution_count": 17,
   "id": "f3dfb46e-b94c-4137-844c-2edb43a348d3",
   "metadata": {},
   "outputs": [
    {
     "name": "stdout",
     "output_type": "stream",
     "text": [
      "Input atomic number:\n"
     ]
    },
    {
     "name": "stdin",
     "output_type": "stream",
     "text": [
      " 28\n"
     ]
    },
    {
     "name": "stdout",
     "output_type": "stream",
     "text": [
      "Input mass number:\n"
     ]
    },
    {
     "name": "stdin",
     "output_type": "stream",
     "text": [
      " 58\n"
     ]
    },
    {
     "name": "stdout",
     "output_type": "stream",
     "text": [
      "atomic number Z = 28 and mass number A = 58\n",
      "a5 = 12.0\n",
      "Binding energy is B =  493.93560680136824 and per nucleon, the binding energy is B/A = 8.516131151747729\n"
     ]
    }
   ],
   "source": [
    "#Practice Codes that are given textbook problems ARE SO HARD\n",
    "#Exercise 2.10\n",
    "# We introduce the math library so we can use the floor function to eliminate decimals \n",
    "import math\n",
    "\n",
    "# Introduction of variables and inputting of atomic number and mass number. \n",
    "a1 = 15.67\n",
    "a2 = 17.23\n",
    "a3 = 0.75\n",
    "a4 = 93.2\n",
    "#Initializing a5 as zero\n",
    "a5 = 0\n",
    "\n",
    "#Inputs\n",
    "print(\"Input atomic number:\")\n",
    "Z = int(input())\n",
    "print(\"Input mass number:\")\n",
    "A = int(input())\n",
    "print(\"atomic number Z =\", Z, \"and mass number A =\", A)\n",
    "\n",
    "#Checking if the inputs are odd or even\n",
    "if (A%2) != 0:\n",
    "    a5 = 0\n",
    "elif (Z%2) != 0:\n",
    "    a5 = -12.0\n",
    "else:\n",
    "    a5 = 12.0\n",
    "print(\"a5 =\", a5)\n",
    "\n",
    "#We can now solve for the bingind energy and binding energy per nucleon\n",
    "B = a1*A - a2*(A**(2/3)) - a3*((Z**2)/(A**(1/3))) - a4*(((A-2*Z)**2)/A) + a5/(A**(1/2))\n",
    "\n",
    "bind_per_nuc = B/A\n",
    "print(\"Binding energy is B = \", B, \"and per nucleon, the binding energy is B/A =\", bind_per_nuc)\n",
    "\n"
   ]
  },
  {
   "cell_type": "code",
   "execution_count": 2,
   "id": "946ea98c-cdff-422b-b4f0-5d82cc2ef95e",
   "metadata": {},
   "outputs": [],
   "source": [
    "#Practice Codes in the lecture"
   ]
  },
  {
   "cell_type": "code",
   "execution_count": 3,
   "id": "6c14dbbe-686c-4fed-9967-c984e1daed10",
   "metadata": {},
   "outputs": [
    {
     "ename": "SyntaxError",
     "evalue": "EOL while scanning string literal (2910899168.py, line 1)",
     "output_type": "error",
     "traceback": [
      "\u001b[1;36m  Input \u001b[1;32mIn [3]\u001b[1;36m\u001b[0m\n\u001b[1;33m    age = 20\"\u001b[0m\n\u001b[1;37m             ^\u001b[0m\n\u001b[1;31mSyntaxError\u001b[0m\u001b[1;31m:\u001b[0m EOL while scanning string literal\n"
     ]
    }
   ],
   "source": [
    "age = 20\"\n",
    "age += 69\n",
    "print(age)"
   ]
  },
  {
   "cell_type": "code",
   "execution_count": null,
   "id": "0d1bd060-8116-4717-a6b3-84ec6bf83965",
   "metadata": {},
   "outputs": [],
   "source": [
    "String = \"hatdong\"\n",
    "Stri = string[0:4]\n",
    "print(stri)"
   ]
  },
  {
   "cell_type": "code",
   "execution_count": null,
   "id": "350b6965-b28c-411f-8346-25911103e9c4",
   "metadata": {},
   "outputs": [],
   "source": [
    "species_name = \"Acacia buxifolia\"\n",
    "print(species_name[2:])"
   ]
  },
  {
   "cell_type": "code",
   "execution_count": null,
   "id": "f62cefa0-5d50-43b3-a6d6-589fb1b48926",
   "metadata": {},
   "outputs": [],
   "source": [
    "for number in [2, 3, 4]:\n",
    "    print(number)"
   ]
  },
  {
   "cell_type": "code",
   "execution_count": null,
   "id": "1a0ffd62-47ab-4bab-b627-3efe4f401d56",
   "metadata": {},
   "outputs": [],
   "source": [
    "    name = \"Harry\"\n",
    "print(name)"
   ]
  },
  {
   "cell_type": "code",
   "execution_count": null,
   "id": "4a576d24-5f34-4f97-8eba-b90c1f802191",
   "metadata": {},
   "outputs": [],
   "source": [
    "primes = range(2,10)\n",
    "for p in primes:\n",
    "    squared = p**2\n",
    "    cubed = p**3\n",
    "    print(p, squared, cubed)"
   ]
  },
  {
   "cell_type": "code",
   "execution_count": null,
   "id": "684786b7-794e-444c-8910-aab499cd2786",
   "metadata": {},
   "outputs": [],
   "source": [
    "total = 0\n",
    "for number in range(10):\n",
    "    total = total + number + 1\n",
    "print(total)"
   ]
  },
  {
   "cell_type": "code",
   "execution_count": null,
   "id": "796b853b-d82e-4d8a-8b04-9623a1dc61f9",
   "metadata": {},
   "outputs": [],
   "source": [
    "print(range(3))"
   ]
  },
  {
   "cell_type": "code",
   "execution_count": null,
   "id": "dacad0a6-dc35-4a12-9ae3-b0eebff91ff8",
   "metadata": {},
   "outputs": [],
   "source": [
    "#using char as loop updater\n",
    "total = 0\n",
    "for char in \"tin\":\n",
    "    total += 1\n",
    "    print(total)"
   ]
  },
  {
   "cell_type": "code",
   "execution_count": null,
   "id": "a08abdb2-dbf6-4a32-a49b-a7d9017b0abe",
   "metadata": {},
   "outputs": [],
   "source": [
    "original = \"tin\"\n",
    "result = \" \"\n",
    "for char in original:\n",
    "    result = char + result\n",
    "    print(result)"
   ]
  },
  {
   "cell_type": "code",
   "execution_count": null,
   "id": "756b89d1-4f3f-42f0-90e1-215db54183be",
   "metadata": {},
   "outputs": [],
   "source": [
    "#using char as loop updater\n",
    "word = \"tin\"\n",
    "print(word[0])\n",
    "print(word[-1])"
   ]
  },
  {
   "cell_type": "code",
   "execution_count": null,
   "id": "1d6f241f-fc18-42c8-94ae-bdf053ed96a1",
   "metadata": {},
   "outputs": [],
   "source": [
    "total = 0\n",
    "for word in [\"red\",\"green\",\"blue\"]:\n",
    "    total += len(word)\n",
    "    print(total)"
   ]
  },
  {
   "cell_type": "code",
   "execution_count": null,
   "id": "b0982e26-8425-469c-8821-ba0798b216f6",
   "metadata": {},
   "outputs": [],
   "source": [
    "word = \"ap155\"\n",
    "for count, char in enumerate(word):\n",
    "    print(count, char)"
   ]
  },
  {
   "cell_type": "code",
   "execution_count": null,
   "id": "cf9c6e36-a9a5-4d6d-83eb-624add61bd68",
   "metadata": {},
   "outputs": [],
   "source": [
    "word = \"ap155\"\n",
    "wordc = enumerate(word)\n",
    "print(wordc, )"
   ]
  },
  {
   "cell_type": "code",
   "execution_count": null,
   "id": "26a26537-7672-4db8-8ca2-cb783e3b38a8",
   "metadata": {},
   "outputs": [],
   "source": [
    "lengths = []\n",
    "for word in [\"red\", \"green\", \"blue\"]:\n",
    "    lengths.append(len(word))\n",
    "    #append() puts new characters into the target variable storage\n",
    "print(lengths)"
   ]
  },
  {
   "cell_type": "code",
   "execution_count": null,
   "id": "17f3b9f3-f9b5-40fa-88fe-07cd68beb211",
   "metadata": {},
   "outputs": [],
   "source": [
    "# concatenating words into one string\n",
    "words = [\"red\", \"green\", \"blue\"]\n",
    "result = \"\"\n",
    "for word in words:\n",
    "    result += word\n",
    "print(result)"
   ]
  },
  {
   "cell_type": "code",
   "execution_count": null,
   "id": "05653e32-d399-4ebd-96b5-25bd62760e5a",
   "metadata": {},
   "outputs": [],
   "source": [
    "data = [1,2,2,5]\n",
    "total = 0\n",
    "cumulative = []\n",
    "for number in data:\n",
    "    total += number\n",
    "    cumulative.append(total)\n",
    "print(cumulative)"
   ]
  },
  {
   "cell_type": "code",
   "execution_count": null,
   "id": "df2fb8da-c226-420e-89c8-86508f1f3ac3",
   "metadata": {},
   "outputs": [],
   "source": [
    "message = []\n",
    "for number in range(10):\n",
    "    #use a if the number is a multiple of 3, otherwise use b\n",
    "    if (number%3) == 0:\n",
    "        message.append(\"a\")\n",
    "    else:\n",
    "        message.append(\"b\")\n",
    "print(message)"
   ]
  },
  {
   "cell_type": "code",
   "execution_count": null,
   "id": "ccd8a860-ec26-4fc2-bb02-edd9aa72e42d",
   "metadata": {},
   "outputs": [],
   "source": [
    "#Conditional Statements na\n",
    "mass = 3.44\n",
    "if mass > 3.54:\n",
    "    print(\"fat\")\n",
    "elif mass != 3.54:\n",
    "    print(\"safe\")"
   ]
  },
  {
   "cell_type": "code",
   "execution_count": null,
   "id": "ff6f3541-2f82-49bf-a75d-b701168bf83a",
   "metadata": {},
   "outputs": [],
   "source": [
    "masses = [3.54, 2.07, 9.22, 1.86, 1.71]\n",
    "for m in masses:\n",
    "    if m > 9.0:\n",
    "        print(m, \"is HUGE\")\n",
    "    elif m > 3.0:\n",
    "        print(m, \"is MID\")\n",
    "    else:\n",
    "        print(m, \"is smol\")"
   ]
  },
  {
   "cell_type": "code",
   "execution_count": null,
   "id": "a551b004-b552-40e3-a29d-9b10f9e787e5",
   "metadata": {},
   "outputs": [],
   "source": [
    "mass = [ 3.54,  2.07,  9.22,  1.86,  1.71]\n",
    "velocity = [10.00, 20.00, 30.00, 25.00, 20.00]\n",
    "\n",
    "i = 0\n",
    "for i in range(5):\n",
    "    if mass[i] > 5 and velocity[i] >20:\n",
    "        print(\"iz a big ass vehicle get to the choppa\")\n",
    "    elif mass[i] >2 and velocity[i] <= 20:\n",
    "        print(\"nah we gon be good iz the same old traffic\")\n",
    "    elif mass[i] <= 2 and velocity[i] <= 20:\n",
    "        print(\"slow ass object, you can ignore it\")\n",
    "    else:\n",
    "        print(\"something wrong with our intel, check that out\")\n"
   ]
  },
  {
   "cell_type": "code",
   "execution_count": null,
   "id": "90bdaf6c-80bf-4b19-bbf7-91a599c2c134",
   "metadata": {},
   "outputs": [],
   "source": [
    "#Libraries\n",
    "from math import cos, pi\n",
    "print(pi)"
   ]
  },
  {
   "cell_type": "code",
   "execution_count": null,
   "id": "53bed350-42dc-462f-87e7-77bd9ac9679d",
   "metadata": {},
   "outputs": [],
   "source": [
    "import math\n",
    "help(math)"
   ]
  },
  {
   "cell_type": "code",
   "execution_count": null,
   "id": "ce91c8e8-1223-4900-917f-5f7e9d3cef32",
   "metadata": {},
   "outputs": [],
   "source": [
    "#parson's problem\n",
    "import random\n",
    "bases = \"ACTTGCTTGAC\"\n",
    "\n",
    "print(random.randrange(n_bases))"
   ]
  },
  {
   "cell_type": "code",
   "execution_count": null,
   "id": "85df4403-c6a0-4a56-886d-b5cf106fb059",
   "metadata": {},
   "outputs": [],
   "source": [
    "import matplotlib.pyplot as plt\n",
    "time = [0,1,2,3]\n",
    "position = [0, 100, 200, 300]\n",
    "\n",
    "plt.plot(time, position)\n",
    "plt.xlabel(\"Time (hr)\")\n",
    "plt.ylabel(\"Position (km)\")\n",
    "plt.show()\n",
    "\n",
    "plt.plot(time, position)\n",
    "plt.xlabel(\"Time (hr)\")\n",
    "plt.ylabel(\"Position (km)\")\n",
    "plt.show()\n"
   ]
  },
  {
   "cell_type": "code",
   "execution_count": null,
   "id": "b852c39d-20ce-46d2-916b-e3b7929b70d4",
   "metadata": {},
   "outputs": [],
   "source": [
    "#what does pandas do?\n",
    "import pandas as pd\n",
    "\n",
    "data = pd.read_csv('data/gapminer_gdp_oceania.csv', index_col = 'country')\n",
    "\n",
    "years = data.columns.str.strip(\"gdpPercap_\")\n",
    "\n",
    "data.columns = years.astype(int)\n",
    "data.loc[\"Australia\"].plot()"
   ]
  },
  {
   "cell_type": "code",
   "execution_count": null,
   "id": "1fa4a483-417c-498d-ac14-98f166e88479",
   "metadata": {},
   "outputs": [],
   "source": [
    "import pandas\n",
    "years = data.columns\n",
    "gpd_australia = data.loc[\"Australia\"]\n",
    "\n",
    "plt.plot(years, gdp_australia, \"g--\")"
   ]
  },
  {
   "cell_type": "code",
   "execution_count": null,
   "id": "b79d842f-73c7-4782-8803-4d3c7af1ddf5",
   "metadata": {},
   "outputs": [],
   "source": [
    "#Data\n",
    "gdp_australia = data.loc[\"Australia\"]\n",
    "gdp_nz = data.loc[\"New Zealand\"]\n",
    "\n",
    "#plot setup\n",
    "plt.plot(years, gpd_australia, \"b-\", label = \"Australia\")\n",
    "plt.plot(years, gpd_nz, \"g-\", label = \"New Zealand\")\n",
    "\n",
    "#Legends\n",
    "plt.legend(loc=\"upper left\")\n",
    "plt.xlabel(\"Year\")\n",
    "plt.ylabel(\"GDP per capita ($)\")"
   ]
  },
  {
   "cell_type": "code",
   "execution_count": null,
   "id": "d63d9999-1f34-4f25-a529-eb2fd01f47b6",
   "metadata": {},
   "outputs": [],
   "source": []
  }
 ],
 "metadata": {
  "kernelspec": {
   "display_name": "Python 3 (ipykernel)",
   "language": "python",
   "name": "python3"
  },
  "language_info": {
   "codemirror_mode": {
    "name": "ipython",
    "version": 3
   },
   "file_extension": ".py",
   "mimetype": "text/x-python",
   "name": "python",
   "nbconvert_exporter": "python",
   "pygments_lexer": "ipython3",
   "version": "3.9.12"
  }
 },
 "nbformat": 4,
 "nbformat_minor": 5
}
